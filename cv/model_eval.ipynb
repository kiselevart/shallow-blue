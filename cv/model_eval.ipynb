{
 "cells": [
  {
   "cell_type": "code",
   "execution_count": null,
   "id": "a41f55b3",
   "metadata": {},
   "outputs": [
    {
     "name": "stderr",
     "output_type": "stream",
     "text": [
      "Evaluating:   7%|▋         | 102/1563 [00:05<01:19, 18.46it/s]"
     ]
    }
   ],
   "source": [
    "import torch\n",
    "from torch.utils.data import DataLoader, Subset\n",
    "import numpy as np\n",
    "import matplotlib.pyplot as plt\n",
    "from tqdm import tqdm\n",
    "\n",
    "from dataset import FENChessSquareDataset, ChessPieceCNN\n",
    "\n",
    "# 1. Load model & data\n",
    "device = torch.device(\"mps\" if torch.backends.mps.is_available() else\n",
    "                      \"cuda\" if torch.cuda.is_available() else \"cpu\")\n",
    "model = ChessPieceCNN(13).to(device)\n",
    "model.load_state_dict(torch.load(\"chess_piece_cnn.pth\", map_location=device))\n",
    "model.eval()\n",
    "\n",
    "val_ds     = FENChessSquareDataset(\"dataset/test\")\n",
    "indices = list(range(len(val_ds)))\n",
    "val_subset = Subset(val_ds, indices[:100_000])\n",
    "val_loader = DataLoader(val_subset, batch_size=64, shuffle=False, num_workers=0)\n",
    "\n",
    "# 2. Collect preds & labels\n",
    "all_preds = []\n",
    "all_labels = []\n",
    "with torch.no_grad():\n",
    "    for imgs, labels in tqdm(val_loader, desc=\"Evaluating\"):\n",
    "        imgs   = imgs.to(device)\n",
    "        logits = model(imgs)\n",
    "        preds  = logits.argmax(dim=1).cpu().numpy()\n",
    "        all_preds.extend(preds)\n",
    "        all_labels.extend(labels.numpy())\n",
    "\n",
    "# 3. Compute accuracy\n",
    "all_preds  = np.array(all_preds)\n",
    "all_labels = np.array(all_labels)\n",
    "accuracy = (all_preds == all_labels).mean()\n",
    "print(f\"Overall accuracy: {accuracy:.4f}\")\n",
    "\n",
    "# 4. Build confusion matrix\n",
    "num_classes = len(val_ds.piece_map)\n",
    "cm = np.zeros((num_classes, num_classes), dtype=int)\n",
    "for t, p in zip(all_labels, all_preds):\n",
    "    cm[t, p] += 1\n",
    "\n",
    "# 5. Plot\n",
    "plt.figure(figsize=(8, 8))\n",
    "plt.imshow(cm, interpolation=\"nearest\", cmap=\"Blues\")\n",
    "plt.title(\"Confusion Matrix\")\n",
    "plt.xlabel(\"Predicted\")\n",
    "plt.ylabel(\"True\")\n",
    "plt.colorbar()\n",
    "plt.show()\n"
   ]
  },
  {
   "cell_type": "code",
   "execution_count": null,
   "id": "a8ccd382",
   "metadata": {},
   "outputs": [],
   "source": []
  }
 ],
 "metadata": {
  "kernelspec": {
   "display_name": ".venv",
   "language": "python",
   "name": "python3"
  },
  "language_info": {
   "codemirror_mode": {
    "name": "ipython",
    "version": 3
   },
   "file_extension": ".py",
   "mimetype": "text/x-python",
   "name": "python",
   "nbconvert_exporter": "python",
   "pygments_lexer": "ipython3",
   "version": "3.12.2"
  }
 },
 "nbformat": 4,
 "nbformat_minor": 5
}
