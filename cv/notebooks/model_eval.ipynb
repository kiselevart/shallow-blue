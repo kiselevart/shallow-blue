{
 "cells": [
  {
   "cell_type": "code",
   "execution_count": 5,
   "id": "a163c06e",
   "metadata": {},
   "outputs": [
    {
     "name": "stdout",
     "output_type": "stream",
     "text": [
      "Predicted FEN: 1P1K3R/2P2P2/4BP1P/1N2P3/NPnPp3/3p1n2/npp2ppp/1knq1p1r\n"
     ]
    }
   ],
   "source": [
    "import sys\n",
    "sys.path.append(\"../src\")\n",
    "import torch\n",
    "import os\n",
    "import cv2\n",
    "from torchvision import transforms\n",
    "from board_to_fen import split_into_squares\n",
    "from dataset import ChessPieceCNN  # replace with actual file/module name\n",
    "\n",
    "# 1. Define label-to-piece mapping\n",
    "piece_map = {\n",
    "    '.': 0, 'P': 1, 'N': 2, 'B': 3, 'R': 4, 'Q': 5, 'K': 6,\n",
    "    'p': 7, 'n': 8, 'b': 9, 'r': 10, 'q': 11, 'k': 12\n",
    "}\n",
    "idx_to_symbol = {v: k for k, v in piece_map.items()}\n",
    "\n",
    "# 2. Load the trained model\n",
    "model = ChessPieceCNN()\n",
    "model.load_state_dict(torch.load('../models/chess_piece_cnn.pth', map_location='cpu'))\n",
    "model.eval()\n",
    "\n",
    "# 3. Load and preprocess the board image\n",
    "img_path = '../single_test/test_image.png'\n",
    "img = cv2.imread(img_path)\n",
    "if img is None:\n",
    "    raise FileNotFoundError(f\"Cannot read image: {img_path}\")\n",
    "\n",
    "img = cv2.resize(img, (800, 800))\n",
    "squares = split_into_squares(img)  # list of 64 cropped square images\n",
    "\n",
    "# 4. Apply transforms\n",
    "transform = transforms.Compose([\n",
    "    transforms.ToPILImage(),\n",
    "    transforms.Resize((64, 64)),\n",
    "    transforms.ToTensor()\n",
    "])\n",
    "batch = torch.stack([transform(square) for square in squares])  # (64, 3, 64, 64)\n",
    "\n",
    "# 5. Predict all 64 squares\n",
    "with torch.no_grad():\n",
    "    logits = model(batch)\n",
    "    preds = logits.argmax(dim=1).tolist()\n",
    "\n",
    "# 6. Convert to symbols\n",
    "fen_symbols = [idx_to_symbol[i] for i in preds]\n",
    "\n",
    "# 7. Group into ranks\n",
    "ranks = [fen_symbols[i*8:(i+1)*8] for i in range(8)]\n",
    "\n",
    "def compress_rank(rank):\n",
    "    out = \"\"\n",
    "    empty = 0\n",
    "    for piece in rank:\n",
    "        if piece == '.':\n",
    "            empty += 1\n",
    "        else:\n",
    "            if empty > 0:\n",
    "                out += str(empty)\n",
    "                empty = 0\n",
    "            out += piece\n",
    "    if empty > 0:\n",
    "        out += str(empty)\n",
    "    return out\n",
    "\n",
    "fen_rows = [compress_rank(r) for r in ranks]\n",
    "fen_str = \"/\".join(fen_rows)\n",
    "print(\"Predicted FEN:\", fen_str)\n"
   ]
  },
  {
   "cell_type": "code",
   "execution_count": null,
   "id": "0402c7c1",
   "metadata": {},
   "outputs": [],
   "source": []
  }
 ],
 "metadata": {
  "kernelspec": {
   "display_name": ".venv",
   "language": "python",
   "name": "python3"
  },
  "language_info": {
   "codemirror_mode": {
    "name": "ipython",
    "version": 3
   },
   "file_extension": ".py",
   "mimetype": "text/x-python",
   "name": "python",
   "nbconvert_exporter": "python",
   "pygments_lexer": "ipython3",
   "version": "3.12.2"
  }
 },
 "nbformat": 4,
 "nbformat_minor": 5
}
