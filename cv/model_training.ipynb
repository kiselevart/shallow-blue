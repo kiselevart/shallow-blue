{
 "cells": [
  {
   "cell_type": "code",
   "execution_count": 1,
   "id": "892aca50",
   "metadata": {},
   "outputs": [],
   "source": [
    "from torch.utils.data import Dataset\n",
    "import os\n",
    "import cv2\n",
    "from torchvision import transforms\n",
    "\n",
    "from board_to_fen import *\n",
    "\n",
    "class FENChessSquareDataset(Dataset):\n",
    "    def __init__(self, img_dir, transform=None):\n",
    "        self.img_dir = img_dir\n",
    "        self.filenames = [f for f in os.listdir(img_dir) if f.endswith('.jpeg')]\n",
    "        self.transform = transform or transforms.Compose([\n",
    "            transforms.ToPILImage(),\n",
    "            transforms.Resize((64, 64)),\n",
    "            transforms.ToTensor()\n",
    "        ])\n",
    "        self.piece_map = {\n",
    "            '.': 0, 'P': 1, 'N': 2, 'B': 3, 'R': 4, 'Q': 5, 'K': 6,\n",
    "            'p': 7, 'n': 8, 'b': 9, 'r': 10, 'q': 11, 'k': 12\n",
    "        }\n",
    "    \n",
    "    def __len__(self):\n",
    "        return len(self.filenames) * 64\n",
    "    \n",
    "    def __getitem__(self, idx):\n",
    "        board_idx = idx // 64\n",
    "        square_idx = idx % 64\n",
    "\n",
    "        filename = self.filenames[board_idx]\n",
    "        img_path = os.path.join(self.img_dir, filename)\n",
    "        img = cv2.imread(img_path)\n",
    "        img = cv2.resize(img, (800, 800))\n",
    "        squares = split_into_squares(img)\n",
    "\n",
    "        fen = filename_to_fen(filename)\n",
    "        labels = fen_to_labels(fen)\n",
    "\n",
    "        square_img = squares[square_idx]\n",
    "        label = self.piece_map[labels[square_idx]]\n",
    "\n",
    "        return self.transform(square_img), label"
   ]
  },
  {
   "cell_type": "code",
   "execution_count": 2,
   "id": "3a42a55d",
   "metadata": {},
   "outputs": [],
   "source": [
    "from torch.utils.data import DataLoader\n",
    "\n",
    "dataset = FENChessSquareDataset(\"/Users/kisel/projects/shallow-blue/cv/dataset/train\")\n",
    "\n",
    "loader = DataLoader(dataset, batch_size=64, shuffle=True)"
   ]
  },
  {
   "cell_type": "code",
   "execution_count": 3,
   "id": "323655ab",
   "metadata": {},
   "outputs": [],
   "source": [
    "import torch.nn as nn\n",
    "\n",
    "class ChessPieceCNN(nn.Module):\n",
    "    def __init__(self, num_classes=13):\n",
    "        super().__init__()\n",
    "        self.model = nn.Sequential(\n",
    "            nn.Conv2d(3, 32, 3, padding=1),\n",
    "            nn.ReLU(),\n",
    "            nn.MaxPool2d(2), \n",
    "            nn.Conv2d(32, 64, 3, padding=1),\n",
    "            nn.ReLU(),\n",
    "            nn.MaxPool2d(2),\n",
    "            nn.Flatten(),\n",
    "            nn.Linear(64*16*16, 256),\n",
    "            nn.ReLU(),\n",
    "            nn.Linear(256, num_classes)\n",
    "        )\n",
    "\n",
    "    def forward(self, x):\n",
    "        return self.model(x)"
   ]
  },
  {
   "cell_type": "code",
   "execution_count": 3,
   "id": "096628ad",
   "metadata": {},
   "outputs": [
    {
     "name": "stdout",
     "output_type": "stream",
     "text": [
      "Using device: mps\n",
      "Using 500 boards → 32000 total square samples\n",
      "DataLoader will use 8 worker processes\n",
      "Epoch 1/10: 100%|█| 500/500 [00:14<00:00, 34.24batch/s, loss=0.1312, acc=0.9683]\n",
      "→ Epoch 1: Loss 0.1312 | Acc 0.9683\n",
      "Epoch 2/10: 100%|█| 500/500 [00:13<00:00, 38.11batch/s, loss=0.0048, acc=0.9989]\n",
      "→ Epoch 2: Loss 0.0048 | Acc 0.9989\n",
      "Epoch 3/10: 100%|█| 500/500 [00:13<00:00, 37.04batch/s, loss=0.0029, acc=0.9991]\n",
      "→ Epoch 3: Loss 0.0029 | Acc 0.9991\n",
      "Epoch 4/10: 100%|█| 500/500 [00:13<00:00, 36.29batch/s, loss=0.0018, acc=0.9996]\n",
      "→ Epoch 4: Loss 0.0018 | Acc 0.9996\n",
      "Epoch 5/10: 100%|█| 500/500 [00:14<00:00, 35.44batch/s, loss=0.0044, acc=0.9987]\n",
      "→ Epoch 5: Loss 0.0044 | Acc 0.9987\n",
      "Epoch 6/10: 100%|█| 500/500 [00:14<00:00, 35.30batch/s, loss=0.0043, acc=0.9987]\n",
      "→ Epoch 6: Loss 0.0043 | Acc 0.9987\n",
      "Epoch 7/10: 100%|█| 500/500 [00:14<00:00, 33.52batch/s, loss=0.0000, acc=1.0000]\n",
      "→ Epoch 7: Loss 0.0000 | Acc 1.0000\n",
      "Epoch 8/10: 100%|█| 500/500 [00:16<00:00, 30.88batch/s, loss=0.0000, acc=1.0000]\n",
      "→ Epoch 8: Loss 0.0000 | Acc 1.0000\n",
      "Epoch 9/10: 100%|█| 500/500 [00:18<00:00, 27.16batch/s, loss=0.0000, acc=1.0000]\n",
      "→ Epoch 9: Loss 0.0000 | Acc 1.0000\n",
      "Epoch 10/10: 100%|█| 500/500 [00:19<00:00, 25.09batch/s, loss=0.0000, acc=1.0000\n",
      "→ Epoch 10: Loss 0.0000 | Acc 1.0000\n"
     ]
    }
   ],
   "source": [
    "!python train.py"
   ]
  },
  {
   "cell_type": "code",
   "execution_count": null,
   "id": "acb3fd25",
   "metadata": {},
   "outputs": [],
   "source": []
  }
 ],
 "metadata": {
  "kernelspec": {
   "display_name": ".venv",
   "language": "python",
   "name": "python3"
  },
  "language_info": {
   "codemirror_mode": {
    "name": "ipython",
    "version": 3
   },
   "file_extension": ".py",
   "mimetype": "text/x-python",
   "name": "python",
   "nbconvert_exporter": "python",
   "pygments_lexer": "ipython3",
   "version": "3.12.2"
  }
 },
 "nbformat": 4,
 "nbformat_minor": 5
}
